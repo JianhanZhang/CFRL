{
 "cells": [
  {
   "cell_type": "code",
   "execution_count": 1,
   "id": "f2c0fe52",
   "metadata": {},
   "outputs": [],
   "source": [
    "import pandas as pd\n",
    "import numpy as np"
   ]
  },
  {
   "cell_type": "code",
   "execution_count": 2,
   "id": "9851ac1f",
   "metadata": {},
   "outputs": [
    {
     "data": {
      "text/html": [
       "<div>\n",
       "<style scoped>\n",
       "    .dataframe tbody tr th:only-of-type {\n",
       "        vertical-align: middle;\n",
       "    }\n",
       "\n",
       "    .dataframe tbody tr th {\n",
       "        vertical-align: top;\n",
       "    }\n",
       "\n",
       "    .dataframe thead th {\n",
       "        text-align: right;\n",
       "    }\n",
       "</style>\n",
       "<table border=\"1\" class=\"dataframe\">\n",
       "  <thead>\n",
       "    <tr style=\"text-align: right;\">\n",
       "      <th></th>\n",
       "      <th>id</th>\n",
       "      <th>gender</th>\n",
       "      <th>race</th>\n",
       "      <th>decision</th>\n",
       "      <th>reward</th>\n",
       "      <th>state1</th>\n",
       "      <th>state2</th>\n",
       "      <th>state3</th>\n",
       "    </tr>\n",
       "  </thead>\n",
       "  <tbody>\n",
       "    <tr>\n",
       "      <th>0</th>\n",
       "      <td>1</td>\n",
       "      <td>0</td>\n",
       "      <td>1</td>\n",
       "      <td>1</td>\n",
       "      <td>2</td>\n",
       "      <td>1</td>\n",
       "      <td>4</td>\n",
       "      <td>6</td>\n",
       "    </tr>\n",
       "    <tr>\n",
       "      <th>1</th>\n",
       "      <td>1</td>\n",
       "      <td>0</td>\n",
       "      <td>1</td>\n",
       "      <td>2</td>\n",
       "      <td>4</td>\n",
       "      <td>5</td>\n",
       "      <td>7</td>\n",
       "      <td>3</td>\n",
       "    </tr>\n",
       "    <tr>\n",
       "      <th>2</th>\n",
       "      <td>1</td>\n",
       "      <td>0</td>\n",
       "      <td>1</td>\n",
       "      <td>2</td>\n",
       "      <td>3</td>\n",
       "      <td>6</td>\n",
       "      <td>7</td>\n",
       "      <td>1</td>\n",
       "    </tr>\n",
       "    <tr>\n",
       "      <th>3</th>\n",
       "      <td>2</td>\n",
       "      <td>1</td>\n",
       "      <td>0</td>\n",
       "      <td>3</td>\n",
       "      <td>4</td>\n",
       "      <td>5</td>\n",
       "      <td>6</td>\n",
       "      <td>7</td>\n",
       "    </tr>\n",
       "    <tr>\n",
       "      <th>4</th>\n",
       "      <td>2</td>\n",
       "      <td>1</td>\n",
       "      <td>0</td>\n",
       "      <td>2</td>\n",
       "      <td>4</td>\n",
       "      <td>2</td>\n",
       "      <td>7</td>\n",
       "      <td>3</td>\n",
       "    </tr>\n",
       "    <tr>\n",
       "      <th>5</th>\n",
       "      <td>2</td>\n",
       "      <td>1</td>\n",
       "      <td>0</td>\n",
       "      <td>1</td>\n",
       "      <td>4</td>\n",
       "      <td>8</td>\n",
       "      <td>10</td>\n",
       "      <td>1</td>\n",
       "    </tr>\n",
       "    <tr>\n",
       "      <th>6</th>\n",
       "      <td>3</td>\n",
       "      <td>1</td>\n",
       "      <td>3</td>\n",
       "      <td>3</td>\n",
       "      <td>1</td>\n",
       "      <td>6</td>\n",
       "      <td>7</td>\n",
       "      <td>8</td>\n",
       "    </tr>\n",
       "    <tr>\n",
       "      <th>7</th>\n",
       "      <td>3</td>\n",
       "      <td>1</td>\n",
       "      <td>3</td>\n",
       "      <td>1</td>\n",
       "      <td>2</td>\n",
       "      <td>4</td>\n",
       "      <td>5</td>\n",
       "      <td>6</td>\n",
       "    </tr>\n",
       "    <tr>\n",
       "      <th>8</th>\n",
       "      <td>3</td>\n",
       "      <td>1</td>\n",
       "      <td>3</td>\n",
       "      <td>2</td>\n",
       "      <td>9</td>\n",
       "      <td>4</td>\n",
       "      <td>3</td>\n",
       "      <td>6</td>\n",
       "    </tr>\n",
       "  </tbody>\n",
       "</table>\n",
       "</div>"
      ],
      "text/plain": [
       "   id  gender  race  decision  reward  state1  state2  state3\n",
       "0   1       0     1         1       2       1       4       6\n",
       "1   1       0     1         2       4       5       7       3\n",
       "2   1       0     1         2       3       6       7       1\n",
       "3   2       1     0         3       4       5       6       7\n",
       "4   2       1     0         2       4       2       7       3\n",
       "5   2       1     0         1       4       8      10       1\n",
       "6   3       1     3         3       1       6       7       8\n",
       "7   3       1     3         1       2       4       5       6\n",
       "8   3       1     3         2       9       4       3       6"
      ]
     },
     "execution_count": 2,
     "metadata": {},
     "output_type": "execute_result"
    }
   ],
   "source": [
    "df = pd.read_csv('./tests/sample_inputs/sample_input_1.csv')\n",
    "df"
   ]
  },
  {
   "cell_type": "code",
   "execution_count": 4,
   "id": "f640309b",
   "metadata": {},
   "outputs": [
    {
     "data": {
      "text/plain": [
       "array([0, 0, 0, 1, 1, 1, 1, 1, 1], dtype=int64)"
      ]
     },
     "execution_count": 4,
     "metadata": {},
     "output_type": "execute_result"
    }
   ],
   "source": [
    "df['gender'].to_numpy()"
   ]
  },
  {
   "cell_type": "code",
   "execution_count": 5,
   "id": "95fdc43b",
   "metadata": {},
   "outputs": [
    {
     "data": {
      "text/plain": [
       "array([[ 1,  4,  6],\n",
       "       [ 5,  7,  3],\n",
       "       [ 6,  7,  1],\n",
       "       [ 5,  6,  7],\n",
       "       [ 2,  7,  3],\n",
       "       [ 8, 10,  1],\n",
       "       [ 6,  7,  8],\n",
       "       [ 4,  5,  6],\n",
       "       [ 4,  3,  6]], dtype=int64)"
      ]
     },
     "execution_count": 5,
     "metadata": {},
     "output_type": "execute_result"
    }
   ],
   "source": [
    "df[['state1', 'state2', 'state3']].to_numpy()"
   ]
  },
  {
   "cell_type": "code",
   "execution_count": 6,
   "id": "3ec58d94",
   "metadata": {},
   "outputs": [
    {
     "data": {
      "text/html": [
       "<div>\n",
       "<style scoped>\n",
       "    .dataframe tbody tr th:only-of-type {\n",
       "        vertical-align: middle;\n",
       "    }\n",
       "\n",
       "    .dataframe tbody tr th {\n",
       "        vertical-align: top;\n",
       "    }\n",
       "\n",
       "    .dataframe thead th {\n",
       "        text-align: right;\n",
       "    }\n",
       "</style>\n",
       "<table border=\"1\" class=\"dataframe\">\n",
       "  <thead>\n",
       "    <tr style=\"text-align: right;\">\n",
       "      <th></th>\n",
       "      <th>state3</th>\n",
       "      <th>state1</th>\n",
       "    </tr>\n",
       "  </thead>\n",
       "  <tbody>\n",
       "    <tr>\n",
       "      <th>0</th>\n",
       "      <td>6</td>\n",
       "      <td>1</td>\n",
       "    </tr>\n",
       "    <tr>\n",
       "      <th>1</th>\n",
       "      <td>3</td>\n",
       "      <td>5</td>\n",
       "    </tr>\n",
       "    <tr>\n",
       "      <th>2</th>\n",
       "      <td>1</td>\n",
       "      <td>6</td>\n",
       "    </tr>\n",
       "    <tr>\n",
       "      <th>3</th>\n",
       "      <td>7</td>\n",
       "      <td>5</td>\n",
       "    </tr>\n",
       "    <tr>\n",
       "      <th>4</th>\n",
       "      <td>3</td>\n",
       "      <td>2</td>\n",
       "    </tr>\n",
       "    <tr>\n",
       "      <th>5</th>\n",
       "      <td>1</td>\n",
       "      <td>8</td>\n",
       "    </tr>\n",
       "    <tr>\n",
       "      <th>6</th>\n",
       "      <td>8</td>\n",
       "      <td>6</td>\n",
       "    </tr>\n",
       "    <tr>\n",
       "      <th>7</th>\n",
       "      <td>6</td>\n",
       "      <td>4</td>\n",
       "    </tr>\n",
       "    <tr>\n",
       "      <th>8</th>\n",
       "      <td>6</td>\n",
       "      <td>4</td>\n",
       "    </tr>\n",
       "  </tbody>\n",
       "</table>\n",
       "</div>"
      ],
      "text/plain": [
       "   state3  state1\n",
       "0       6       1\n",
       "1       3       5\n",
       "2       1       6\n",
       "3       7       5\n",
       "4       3       2\n",
       "5       1       8\n",
       "6       8       6\n",
       "7       6       4\n",
       "8       6       4"
      ]
     },
     "execution_count": 6,
     "metadata": {},
     "output_type": "execute_result"
    }
   ],
   "source": [
    "df[['state3', 'state1']]"
   ]
  },
  {
   "cell_type": "code",
   "execution_count": 8,
   "id": "1014e7b6",
   "metadata": {},
   "outputs": [
    {
     "data": {
      "text/plain": [
       "0    1\n",
       "1    5\n",
       "2    6\n",
       "3    5\n",
       "4    2\n",
       "5    8\n",
       "6    6\n",
       "7    4\n",
       "8    4\n",
       "Name: state1, dtype: int64"
      ]
     },
     "execution_count": 8,
     "metadata": {},
     "output_type": "execute_result"
    }
   ],
   "source": [
    "df['state1']"
   ]
  },
  {
   "cell_type": "code",
   "execution_count": null,
   "id": "2484dfd8",
   "metadata": {},
   "outputs": [
    {
     "data": {
      "text/plain": [
       "array([[2, 4],\n",
       "       [2, 3],\n",
       "       [2, 4],\n",
       "       [1, 4],\n",
       "       [1, 2],\n",
       "       [2, 9]], dtype=int64)"
      ]
     },
     "execution_count": 9,
     "metadata": {},
     "output_type": "execute_result"
    }
   ],
   "source": [
    "df[['decision', 'reward']].to_numpy()[[1, 2, 4, 5, 7, 8], :]"
   ]
  },
  {
   "cell_type": "code",
   "execution_count": null,
   "id": "90f71399",
   "metadata": {},
   "outputs": [],
   "source": [
    "def f_x0_multi(zs, ux0, z_coef=1):\n",
    "    gamma0 = np.array([np.repeat(np.array([0.5]), repeats=3), \n",
    "                       np.repeat(np.array(1 * z_coef), repeats=3), \n",
    "                       np.repeat(np.array(1 * z_coef), repeats=3)])\n",
    "    n = zs.shape[0]\n",
    "    M = np.concatenate(\n",
    "        [\n",
    "            np.ones([n, 1]),\n",
    "            zs,\n",
    "        ],\n",
    "        axis=1,\n",
    "    )\n",
    "    x0 = M @ gamma0\n",
    "    x0 = x0.reshape(-1, 3)\n",
    "    x0 = x0 + ux0\n",
    "    return x0\n",
    "\n",
    "# xt_i = -0.5 + zs_1 + zs_2 + 3 * (xtm1_1 + xtm1_2 + xtm1_3) + 2 * atm1 + uxt (assuming z_coef=1)\n",
    "def f_xt_multi(zs, xtm1, atm1, uxt, z_coef=1):\n",
    "    gamma = np.array([np.repeat(np.array([-0.5]), repeats=3), \n",
    "                      np.repeat(np.array(1 * z_coef), repeats=3), \n",
    "                      np.repeat(np.array(1 * z_coef), repeats=3), \n",
    "                      np.array([3, 3, 3]),\n",
    "                      np.array([3, 3, 3]), \n",
    "                      np.array([3, 3, 3]), \n",
    "                      np.array([2, 2, 2])])\n",
    "    n = xtm1.shape[0]\n",
    "    M = np.concatenate(\n",
    "        [\n",
    "            np.ones([n, 1]),\n",
    "            zs,\n",
    "            xtm1,\n",
    "            atm1.reshape(-1, 1), \n",
    "        ],\n",
    "        axis=1,\n",
    "    )\n",
    "    xt = M @ gamma\n",
    "    xt = xt.reshape(-1, 3)\n",
    "    xt = xt + uxt\n",
    "    return xt\n",
    "\n",
    "# xt = -0.5 + zs_1 + zs_2 + xt_1 + xt_2 + xt_3 + at + urt (assuming z_coef=1)\n",
    "def f_rt_multi(zs, xt, at, urtm1, z_coef=1):\n",
    "    lmbda = np.array([-0.5, 1, 1, 1, 1 * z_coef, 1 * z_coef, 1, 1])\n",
    "    n = xt.shape[0]\n",
    "    at = at.reshape(-1, 1)\n",
    "    M = np.concatenate(\n",
    "        [np.ones([n, 1]), xt, zs, at, urtm1], axis=1\n",
    "    )\n",
    "    rt = M @ lmbda\n",
    "    return rt"
   ]
  },
  {
   "cell_type": "code",
   "execution_count": 9,
   "id": "30a30b69",
   "metadata": {},
   "outputs": [
    {
     "data": {
      "text/plain": [
       "array([[[ 0.44024102, -1.39814094, -1.73934431]],\n",
       "\n",
       "       [[ 1.20021192,  0.92412868, -1.53677974]],\n",
       "\n",
       "       [[ 1.00114166,  1.7021257 , -1.86427798]]])"
      ]
     },
     "execution_count": 9,
     "metadata": {},
     "output_type": "execute_result"
    }
   ],
   "source": [
    "np.random.multivariate_normal(mean=[0, 0, 0], cov=np.diag([1, 1, 1]), size=[3, 1])"
   ]
  },
  {
   "cell_type": "code",
   "execution_count": 11,
   "id": "c28c73bb",
   "metadata": {},
   "outputs": [
    {
     "data": {
      "text/plain": [
       "array([[-0.01168136, -1.26451211],\n",
       "       [ 0.28766569,  1.20187007]])"
      ]
     },
     "execution_count": 11,
     "metadata": {},
     "output_type": "execute_result"
    }
   ],
   "source": [
    "np.random.normal(0, 1, [2, 2])"
   ]
  },
  {
   "cell_type": "code",
   "execution_count": 13,
   "id": "cd7f6a4c",
   "metadata": {},
   "outputs": [
    {
     "data": {
      "text/plain": [
       "array([[0.54220223, 1.59587365, 2.90970319],\n",
       "       [4.95905874, 4.33671607, 4.09413163]])"
      ]
     },
     "execution_count": 13,
     "metadata": {},
     "output_type": "execute_result"
    }
   ],
   "source": [
    "zs = np.array([[1, 1], [2, 2]])\n",
    "ux0 = np.random.multivariate_normal(mean=[0, 0, 0], cov=np.diag([1, 1, 1]), size=2)\n",
    "x0 = f_x0_multi(zs, ux0)\n",
    "x0"
   ]
  },
  {
   "cell_type": "code",
   "execution_count": 15,
   "id": "2c67029b",
   "metadata": {},
   "outputs": [
    {
     "data": {
      "text/plain": [
       "array([[16.97615704, 15.61275672, 16.07228417],\n",
       "       [46.43271941, 46.58292937, 44.56175276]])"
      ]
     },
     "execution_count": 15,
     "metadata": {},
     "output_type": "execute_result"
    }
   ],
   "source": [
    "action = np.array([0, 1])\n",
    "ux1 = np.random.multivariate_normal(mean=[0, 0, 0], cov=np.diag([1, 1, 1]), size=2)\n",
    "ur0 = np.random.normal(0, 1, size=[2, 1])\n",
    "x1 = f_xt_multi(zs, x0, action, ux1)\n",
    "x1"
   ]
  },
  {
   "cell_type": "code",
   "execution_count": 19,
   "id": "869d876e",
   "metadata": {},
   "outputs": [
    {
     "data": {
      "text/plain": [
       "array([ 6.16966841, 18.15582582])"
      ]
     },
     "execution_count": 19,
     "metadata": {},
     "output_type": "execute_result"
    }
   ],
   "source": [
    "r0 = f_rt_multi(zs, x0, action, ur0)\n",
    "r0"
   ]
  }
 ],
 "metadata": {
  "kernelspec": {
   "display_name": "Python 3",
   "language": "python",
   "name": "python3"
  },
  "language_info": {
   "codemirror_mode": {
    "name": "ipython",
    "version": 3
   },
   "file_extension": ".py",
   "mimetype": "text/x-python",
   "name": "python",
   "nbconvert_exporter": "python",
   "pygments_lexer": "ipython3",
   "version": "3.10.8"
  }
 },
 "nbformat": 4,
 "nbformat_minor": 5
}
