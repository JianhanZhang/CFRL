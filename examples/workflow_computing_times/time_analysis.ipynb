{
 "cells": [
  {
   "cell_type": "code",
   "execution_count": 1,
   "id": "30a3b906",
   "metadata": {},
   "outputs": [],
   "source": [
    "import pandas as pd\n",
    "import numpy as np"
   ]
  },
  {
   "cell_type": "markdown",
   "id": "e8d30241",
   "metadata": {},
   "source": [
    "## Preprocesisng Only Workflow"
   ]
  },
  {
   "cell_type": "code",
   "execution_count": 5,
   "id": "fb600afd",
   "metadata": {},
   "outputs": [
    {
     "data": {
      "text/plain": [
       "(N     T \n",
       " 100   10      39.123637\n",
       "       20     142.596389\n",
       " 500   10     175.585783\n",
       "       20    3352.302869\n",
       " 1000  10     407.496860\n",
       "       20    2543.555298\n",
       " Name: time, dtype: float64,\n",
       " N     T \n",
       " 100   10       1.053529\n",
       "       20       2.200400\n",
       " 500   10       7.331898\n",
       "       20    4381.519034\n",
       " 1000  10      72.442696\n",
       "       20    4460.728587\n",
       " Name: time, dtype: float64)"
      ]
     },
     "execution_count": 5,
     "metadata": {},
     "output_type": "execute_result"
    }
   ],
   "source": [
    "df = pd.read_csv('./out_preprocessing_only_workflow.csv')\n",
    "df.groupby(['N', 'T'])['time'].mean(), df.groupby(['N', 'T'])['time'].std()"
   ]
  },
  {
   "cell_type": "markdown",
   "id": "1f07a64f",
   "metadata": {},
   "source": [
    "## Policy Learning Only Workflow"
   ]
  },
  {
   "cell_type": "code",
   "execution_count": 6,
   "id": "936632d3",
   "metadata": {},
   "outputs": [
    {
     "data": {
      "text/plain": [
       "(N     T \n",
       " 100   10     114.861365\n",
       "       20     124.254576\n",
       " 200   20     367.404856\n",
       " 500   10     572.456434\n",
       "       20     677.379595\n",
       " 1000  10     694.605409\n",
       "       20    1453.945633\n",
       " Name: time, dtype: float64,\n",
       " N     T \n",
       " 100   10      32.969612\n",
       "       20       8.258749\n",
       " 200   20       6.274210\n",
       " 500   10    1045.142001\n",
       "       20     134.478708\n",
       " 1000  10     160.645296\n",
       "       20      45.248426\n",
       " Name: time, dtype: float64)"
      ]
     },
     "execution_count": 6,
     "metadata": {},
     "output_type": "execute_result"
    }
   ],
   "source": [
    "df = pd.read_csv('./out_policy_learning_only_workflow.csv')\n",
    "df.groupby(['N', 'T'])['time'].mean(), df.groupby(['N', 'T'])['time'].std()"
   ]
  },
  {
   "cell_type": "markdown",
   "id": "ce455e5d",
   "metadata": {},
   "source": [
    "## Real Data Workflow"
   ]
  },
  {
   "cell_type": "code",
   "execution_count": 7,
   "id": "fa225c75",
   "metadata": {},
   "outputs": [
    {
     "data": {
      "text/plain": [
       "(N     T \n",
       " 100   10    260.819534\n",
       " 500   10    334.620754\n",
       " 1000  10    942.361303\n",
       " Name: time, dtype: float64,\n",
       " N     T \n",
       " 100   10      3.947259\n",
       " 500   10     87.998085\n",
       " 1000  10    743.360378\n",
       " Name: time, dtype: float64)"
      ]
     },
     "execution_count": 7,
     "metadata": {},
     "output_type": "execute_result"
    }
   ],
   "source": [
    "df = pd.read_csv('./out_real_data_workflow.csv')\n",
    "df.groupby(['N', 'T'])['time'].mean(), df.groupby(['N', 'T'])['time'].std()"
   ]
  },
  {
   "cell_type": "markdown",
   "id": "3ec56cf0",
   "metadata": {},
   "source": [
    "## Synthetic Data Workflow"
   ]
  },
  {
   "cell_type": "code",
   "execution_count": 9,
   "id": "7cf8aecd",
   "metadata": {},
   "outputs": [
    {
     "data": {
      "text/plain": [
       "(N     T \n",
       " 100   10     40.611302\n",
       "       20     37.231183\n",
       " 200   10     50.573869\n",
       " 500   10     85.801655\n",
       "       20    142.207930\n",
       " 1000  10     84.912871\n",
       " Name: time, dtype: float64,\n",
       " N     T \n",
       " 100   10     3.576747\n",
       "       20     2.941822\n",
       " 200   10     5.083628\n",
       " 500   10    73.194679\n",
       "       20     5.320495\n",
       " 1000  10    11.632263\n",
       " Name: time, dtype: float64)"
      ]
     },
     "execution_count": 9,
     "metadata": {},
     "output_type": "execute_result"
    }
   ],
   "source": [
    "df = pd.read_csv('./out_synthetic_data_workflow.csv')\n",
    "df.groupby(['N', 'T'])['time'].mean(), df.groupby(['N', 'T'])['time'].std()"
   ]
  }
 ],
 "metadata": {
  "kernelspec": {
   "display_name": "Python 3",
   "language": "python",
   "name": "python3"
  },
  "language_info": {
   "codemirror_mode": {
    "name": "ipython",
    "version": 3
   },
   "file_extension": ".py",
   "mimetype": "text/x-python",
   "name": "python",
   "nbconvert_exporter": "python",
   "pygments_lexer": "ipython3",
   "version": "3.10.8"
  }
 },
 "nbformat": 4,
 "nbformat_minor": 5
}
