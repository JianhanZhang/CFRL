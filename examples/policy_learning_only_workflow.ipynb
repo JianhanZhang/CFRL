{
 "cells": [
  {
   "cell_type": "markdown",
   "id": "8493633e",
   "metadata": {},
   "source": [
    "# Policy Learning Only Workflow"
   ]
  },
  {
   "cell_type": "markdown",
   "id": "7b566355",
   "metadata": {},
   "source": [
    "In this workflow, CFRL takes in an offline trajectory and then preprocesses the offline trajectory using `SequentialPreprocessor`. After that, the preprocessed trajectory is passed into `FQI` to train a counterfactually fair policy, which is the final output of the workflow. This workflow is appropriate if the user wants to train a policy using CFRL. The trained policy can be further evaluated on its value and counterfactual fairness, which is discussed in detail in the \"Assessing Policies Using Real Data\" notebook.\n",
    "\n",
    "We begin by importing the liberaries needed for this demonstration."
   ]
  },
  {
   "cell_type": "code",
   "execution_count": 16,
   "id": "0b6f8c43",
   "metadata": {},
   "outputs": [],
   "source": [
    "# Need this temporarily to import CFRL before it is officially published to PyPI\n",
    "import sys\n",
    "sys.path.append(\"E:/learning/university/MiSIL/CFRL Python Package/CFRL\")"
   ]
  },
  {
   "cell_type": "code",
   "execution_count": 17,
   "id": "df934c5f",
   "metadata": {},
   "outputs": [
    {
     "data": {
      "text/plain": [
       "<torch._C.Generator at 0x1eb0691a550>"
      ]
     },
     "execution_count": 17,
     "metadata": {},
     "output_type": "execute_result"
    }
   ],
   "source": [
    "import pandas as pd\n",
    "import numpy as np\n",
    "import torch\n",
    "from sklearn.model_selection import train_test_split\n",
    "from CFRL.reader import read_trajectory_from_dataframe, convert_trajectory_to_dataframe\n",
    "from CFRL.preprocessor import SequentialPreprocessor\n",
    "from CFRL.agents import FQI\n",
    "np.random.seed(1) # ensure reproducibility\n",
    "torch.manual_seed(1) # ensure reproducibility"
   ]
  },
  {
   "cell_type": "markdown",
   "id": "bff76bcd",
   "metadata": {},
   "source": [
    "## Data Loading"
   ]
  },
  {
   "cell_type": "markdown",
   "id": "5cd6c556",
   "metadata": {},
   "source": [
    "In this demonstration, we use an offline trajectory generated from a `SyntheticEnvironment` using some pre-specified transition rules. Although it is actually synthesized, we treat it as if it is from some unknown environment for pedagogical convenience in this demonstration.\n",
    "\n",
    "The trajectory contains 500 individuals (i.e. $N=500$) and 10 transitions (i.e. $T=10$). The actions are binary (0 or 1) and were sampled using a random policy that selects 0 or 1 randomly with equal probability. It is stored in a tabular format in a `.csv` file. The sensitive attribute variable is bivariate, stored in columns `z1` and `z2`. The legit values of the sensitive attribute are $[0, 0]$, $[1, 0]$, $[0, 1]$, and $[1, 1]$. The state variable is tri-variate, stored in columns `state1`, `state2`, and `state3`. The actions are stored in the column `action` and rewards in the column `reward`. The tabular data also includes an extra irrelevant column `timestamp`. \n",
    "\n",
    "We can load and view the tabular data."
   ]
  },
  {
   "cell_type": "code",
   "execution_count": 18,
   "id": "6fca2afb",
   "metadata": {},
   "outputs": [
    {
     "data": {
      "text/html": [
       "<div>\n",
       "<style scoped>\n",
       "    .dataframe tbody tr th:only-of-type {\n",
       "        vertical-align: middle;\n",
       "    }\n",
       "\n",
       "    .dataframe tbody tr th {\n",
       "        vertical-align: top;\n",
       "    }\n",
       "\n",
       "    .dataframe thead th {\n",
       "        text-align: right;\n",
       "    }\n",
       "</style>\n",
       "<table border=\"1\" class=\"dataframe\">\n",
       "  <thead>\n",
       "    <tr style=\"text-align: right;\">\n",
       "      <th></th>\n",
       "      <th>Unnamed: 0</th>\n",
       "      <th>ID</th>\n",
       "      <th>timestamp</th>\n",
       "      <th>z1</th>\n",
       "      <th>z2</th>\n",
       "      <th>action</th>\n",
       "      <th>reward</th>\n",
       "      <th>state1</th>\n",
       "      <th>state2</th>\n",
       "      <th>state3</th>\n",
       "    </tr>\n",
       "  </thead>\n",
       "  <tbody>\n",
       "    <tr>\n",
       "      <th>0</th>\n",
       "      <td>0</td>\n",
       "      <td>1.0</td>\n",
       "      <td>1.0</td>\n",
       "      <td>0.0</td>\n",
       "      <td>0.0</td>\n",
       "      <td>NaN</td>\n",
       "      <td>NaN</td>\n",
       "      <td>2.124345</td>\n",
       "      <td>-0.111756</td>\n",
       "      <td>-0.028172</td>\n",
       "    </tr>\n",
       "    <tr>\n",
       "      <th>1</th>\n",
       "      <td>1</td>\n",
       "      <td>1.0</td>\n",
       "      <td>2.0</td>\n",
       "      <td>0.0</td>\n",
       "      <td>0.0</td>\n",
       "      <td>1.0</td>\n",
       "      <td>3.380339</td>\n",
       "      <td>-0.071876</td>\n",
       "      <td>0.545250</td>\n",
       "      <td>-0.020279</td>\n",
       "    </tr>\n",
       "    <tr>\n",
       "      <th>2</th>\n",
       "      <td>2</td>\n",
       "      <td>1.0</td>\n",
       "      <td>3.0</td>\n",
       "      <td>0.0</td>\n",
       "      <td>0.0</td>\n",
       "      <td>0.0</td>\n",
       "      <td>1.849111</td>\n",
       "      <td>-1.084077</td>\n",
       "      <td>-1.696634</td>\n",
       "      <td>-1.179136</td>\n",
       "    </tr>\n",
       "    <tr>\n",
       "      <th>3</th>\n",
       "      <td>3</td>\n",
       "      <td>1.0</td>\n",
       "      <td>4.0</td>\n",
       "      <td>0.0</td>\n",
       "      <td>0.0</td>\n",
       "      <td>0.0</td>\n",
       "      <td>-4.421291</td>\n",
       "      <td>-2.317520</td>\n",
       "      <td>-1.787875</td>\n",
       "      <td>-2.148363</td>\n",
       "    </tr>\n",
       "    <tr>\n",
       "      <th>4</th>\n",
       "      <td>4</td>\n",
       "      <td>1.0</td>\n",
       "      <td>5.0</td>\n",
       "      <td>0.0</td>\n",
       "      <td>0.0</td>\n",
       "      <td>1.0</td>\n",
       "      <td>-5.142691</td>\n",
       "      <td>-2.936506</td>\n",
       "      <td>-3.603797</td>\n",
       "      <td>-3.590126</td>\n",
       "    </tr>\n",
       "    <tr>\n",
       "      <th>...</th>\n",
       "      <td>...</td>\n",
       "      <td>...</td>\n",
       "      <td>...</td>\n",
       "      <td>...</td>\n",
       "      <td>...</td>\n",
       "      <td>...</td>\n",
       "      <td>...</td>\n",
       "      <td>...</td>\n",
       "      <td>...</td>\n",
       "      <td>...</td>\n",
       "    </tr>\n",
       "    <tr>\n",
       "      <th>5495</th>\n",
       "      <td>5495</td>\n",
       "      <td>500.0</td>\n",
       "      <td>7.0</td>\n",
       "      <td>0.0</td>\n",
       "      <td>0.0</td>\n",
       "      <td>0.0</td>\n",
       "      <td>-12.563265</td>\n",
       "      <td>-4.024293</td>\n",
       "      <td>-6.587401</td>\n",
       "      <td>-3.859436</td>\n",
       "    </tr>\n",
       "    <tr>\n",
       "      <th>5496</th>\n",
       "      <td>5496</td>\n",
       "      <td>500.0</td>\n",
       "      <td>8.0</td>\n",
       "      <td>0.0</td>\n",
       "      <td>0.0</td>\n",
       "      <td>0.0</td>\n",
       "      <td>-14.073520</td>\n",
       "      <td>-5.952644</td>\n",
       "      <td>-5.854450</td>\n",
       "      <td>-4.218220</td>\n",
       "    </tr>\n",
       "    <tr>\n",
       "      <th>5497</th>\n",
       "      <td>5497</td>\n",
       "      <td>500.0</td>\n",
       "      <td>9.0</td>\n",
       "      <td>0.0</td>\n",
       "      <td>0.0</td>\n",
       "      <td>0.0</td>\n",
       "      <td>-16.691358</td>\n",
       "      <td>-5.687570</td>\n",
       "      <td>-6.008377</td>\n",
       "      <td>-5.618730</td>\n",
       "    </tr>\n",
       "    <tr>\n",
       "      <th>5498</th>\n",
       "      <td>5498</td>\n",
       "      <td>500.0</td>\n",
       "      <td>10.0</td>\n",
       "      <td>0.0</td>\n",
       "      <td>0.0</td>\n",
       "      <td>0.0</td>\n",
       "      <td>-18.394408</td>\n",
       "      <td>-7.551435</td>\n",
       "      <td>-6.816310</td>\n",
       "      <td>-6.740886</td>\n",
       "    </tr>\n",
       "    <tr>\n",
       "      <th>5499</th>\n",
       "      <td>5499</td>\n",
       "      <td>500.0</td>\n",
       "      <td>11.0</td>\n",
       "      <td>0.0</td>\n",
       "      <td>0.0</td>\n",
       "      <td>1.0</td>\n",
       "      <td>-20.989511</td>\n",
       "      <td>-6.202696</td>\n",
       "      <td>-8.487149</td>\n",
       "      <td>-7.020361</td>\n",
       "    </tr>\n",
       "  </tbody>\n",
       "</table>\n",
       "<p>5500 rows × 10 columns</p>\n",
       "</div>"
      ],
      "text/plain": [
       "      Unnamed: 0     ID  timestamp   z1   z2  action     reward    state1  \\\n",
       "0              0    1.0        1.0  0.0  0.0     NaN        NaN  2.124345   \n",
       "1              1    1.0        2.0  0.0  0.0     1.0   3.380339 -0.071876   \n",
       "2              2    1.0        3.0  0.0  0.0     0.0   1.849111 -1.084077   \n",
       "3              3    1.0        4.0  0.0  0.0     0.0  -4.421291 -2.317520   \n",
       "4              4    1.0        5.0  0.0  0.0     1.0  -5.142691 -2.936506   \n",
       "...          ...    ...        ...  ...  ...     ...        ...       ...   \n",
       "5495        5495  500.0        7.0  0.0  0.0     0.0 -12.563265 -4.024293   \n",
       "5496        5496  500.0        8.0  0.0  0.0     0.0 -14.073520 -5.952644   \n",
       "5497        5497  500.0        9.0  0.0  0.0     0.0 -16.691358 -5.687570   \n",
       "5498        5498  500.0       10.0  0.0  0.0     0.0 -18.394408 -7.551435   \n",
       "5499        5499  500.0       11.0  0.0  0.0     1.0 -20.989511 -6.202696   \n",
       "\n",
       "        state2    state3  \n",
       "0    -0.111756 -0.028172  \n",
       "1     0.545250 -0.020279  \n",
       "2    -1.696634 -1.179136  \n",
       "3    -1.787875 -2.148363  \n",
       "4    -3.603797 -3.590126  \n",
       "...        ...       ...  \n",
       "5495 -6.587401 -3.859436  \n",
       "5496 -5.854450 -4.218220  \n",
       "5497 -6.008377 -5.618730  \n",
       "5498 -6.816310 -6.740886  \n",
       "5499 -8.487149 -7.020361  \n",
       "\n",
       "[5500 rows x 10 columns]"
      ]
     },
     "execution_count": 18,
     "metadata": {},
     "output_type": "execute_result"
    }
   ],
   "source": [
    "trajectory = pd.read_csv('../data/sample_data_large_multi.csv')\n",
    "trajectory"
   ]
  },
  {
   "cell_type": "markdown",
   "id": "a5dc25b3",
   "metadata": {},
   "source": [
    "We now read the trajectory from the tabular format into Trajectory Arrays."
   ]
  },
  {
   "cell_type": "code",
   "execution_count": 19,
   "id": "67fe8d59",
   "metadata": {},
   "outputs": [],
   "source": [
    "zs, states, actions, rewards, ids = read_trajectory_from_dataframe(\n",
    "                                                data=trajectory, \n",
    "                                                z_labels=['z1', 'z2'], \n",
    "                                                state_labels=['state1', 'state2', 'state3'], \n",
    "                                                action_label='action', \n",
    "                                                reward_label='reward', \n",
    "                                                id_label='ID', \n",
    "                                                T=10\n",
    "                                                )"
   ]
  },
  {
   "cell_type": "markdown",
   "id": "63e0226a",
   "metadata": {},
   "source": [
    "## Preprocessor Training"
   ]
  },
  {
   "cell_type": "markdown",
   "id": "066511b4",
   "metadata": {},
   "source": [
    "Before preprocessing the trajectory, we need to first train a preprocessor. To mitigate overfitting, we use a random subset of 250 individuals in the trajectory to train the preprocessor. The remaining 250 individuals will be actually preprocessed. We now form these two sets."
   ]
  },
  {
   "cell_type": "code",
   "execution_count": 20,
   "id": "0205842c",
   "metadata": {},
   "outputs": [],
   "source": [
    "(\n",
    "    zs_train, zs_prepro, \n",
    "    states_train, states_prepro, \n",
    "    actions_train, actions_prepro, \n",
    "    rewards_train, rewards_prepro, \n",
    "    ids_train, ids_prepro\n",
    ") = train_test_split(zs, states, actions, rewards, ids, test_size=0.5)"
   ]
  },
  {
   "cell_type": "markdown",
   "id": "b75983d7",
   "metadata": {},
   "source": [
    "We now use the training set to train a `SequentialPreprocessor`."
   ]
  },
  {
   "cell_type": "code",
   "execution_count": 21,
   "id": "2db1b22e",
   "metadata": {},
   "outputs": [
    {
     "name": "stderr",
     "output_type": "stream",
     "text": [
      "100%|██████████| 1000/1000 [00:27<00:00, 36.90it/s]\n"
     ]
    },
    {
     "data": {
      "text/plain": [
       "(array([[[  0.29730609,   0.64565182,  -1.68102797, ...,   2.47447229,\n",
       "            2.52162402,   0.375634  ],\n",
       "         [ -1.35034815,  -2.25309663,  -1.63382889, ...,   2.82107386,\n",
       "            1.81303627,   1.2983024 ],\n",
       "         [ -3.42806811,  -4.52740321,  -3.80843044, ...,   1.68164783,\n",
       "            0.83195773,   0.71035158],\n",
       "         ...,\n",
       "         [ -6.80947176,  -7.44296927,  -6.91436753, ...,   4.73078212,\n",
       "            3.0231462 ,   3.61140981],\n",
       "         [ -8.76876788,  -7.18474406,  -8.88386579, ...,   2.99160762,\n",
       "            4.22119409,   2.35490637],\n",
       "         [ -9.04944974,  -9.08450819,  -9.40940367, ...,   3.65938634,\n",
       "            3.81831216,   2.64957179]],\n",
       " \n",
       "        [[  0.30006061,   0.50738898,   0.77566408, ...,   2.47722681,\n",
       "            2.38336118,   2.83232604],\n",
       "         [ -1.27571934,  -1.32202527,  -2.06041935, ...,   3.12821848,\n",
       "            2.43734542,   1.80595765],\n",
       "         [ -3.04574095,  -4.47713707,  -2.44819125, ...,   2.59558333,\n",
       "            1.63423945,   3.76620475],\n",
       "         ...,\n",
       "         [ -9.70628283,  -8.52692268, -10.77813067, ...,   2.54734709,\n",
       "            3.98250153,   0.98361979],\n",
       "         [ -9.88815959,  -9.48028015,  -9.37377393, ...,   3.47163074,\n",
       "            3.24754454,   2.98373044],\n",
       "         [ -9.13445216, -10.46861851,  -9.79687712, ...,   4.89274949,\n",
       "            3.57648314,   3.73820785]],\n",
       " \n",
       "        [[  2.35577998,   0.8234965 ,  -1.11028779, ...,   4.53294618,\n",
       "            2.69946869,   0.94637418],\n",
       "         [ -3.4370355 ,  -0.29590261,  -2.04289001, ...,   0.34032077,\n",
       "            4.16061872,   1.86387104],\n",
       "         [ -2.15847723,  -3.25439603,  -3.42399957, ...,   4.12597879,\n",
       "            3.04437988,   1.94134472],\n",
       "         ...,\n",
       "         [ -9.81485596,  -9.40032035,  -7.0353678 , ...,   3.74063263,\n",
       "            3.93364591,   5.60070746],\n",
       "         [-10.3763951 ,  -8.94730069, -10.56331201, ...,   3.91188205,\n",
       "            4.54234431,   3.04194646],\n",
       "         [-10.51299376,  -8.21969823, -11.0975335 , ...,   3.68183618,\n",
       "            6.14410611,   2.14600989]],\n",
       " \n",
       "        ...,\n",
       " \n",
       "        [[  1.08687877,  -0.81371933,  -0.37529462, ...,   3.26404497,\n",
       "            1.06225287,   1.68136735],\n",
       "         [ -2.66861698,  -2.31910843,  -1.18831108, ...,   2.19525627,\n",
       "            1.76563692,   3.83033874],\n",
       "         [ -4.25234058,  -4.09143673,  -3.78836242, ...,   2.25104998,\n",
       "            2.76672495,   2.31687887],\n",
       "         ...,\n",
       "         [ -7.29137335,  -8.41673493,  -9.67532364, ...,   6.8630909 ,\n",
       "            5.39855314,   4.08229478],\n",
       "         [-11.35488924,  -9.19403461,  -6.66210942, ...,   3.82686344,\n",
       "            5.67560192,   7.1270618 ],\n",
       "         [ -9.32409771,  -9.84795361,  -9.8088051 , ...,   4.82799522,\n",
       "            3.5445096 ,   4.80050886]],\n",
       " \n",
       "        [[  0.52599999,  -0.84869645,   1.80253554, ...,   2.70316619,\n",
       "            1.02727575,   3.8591975 ],\n",
       "         [  0.54269952,   0.80348042,   0.4486412 , ...,   4.0685547 ,\n",
       "            4.48468897,   3.81615483],\n",
       "         [ -2.11077897,  -2.37800658,  -1.60129975, ...,   3.92071588,\n",
       "            2.63973725,   3.64305235],\n",
       "         ...,\n",
       "         [ -5.74581748,  -5.60359822,  -5.5942163 , ...,   5.81681365,\n",
       "            6.17626276,   5.18670802],\n",
       "         [ -6.86498505,  -7.39501148,  -5.57834589, ...,   5.56491989,\n",
       "            4.67843193,   5.59849442],\n",
       "         [ -8.29057402,  -6.90579674,  -8.5883513 , ...,   4.33035474,\n",
       "            5.11451653,   3.55824275]],\n",
       " \n",
       "        [[  1.03869025,   1.01216151,  -0.45934013, ...,   3.21585645,\n",
       "            2.88813371,   1.59732184],\n",
       "         [ -0.23303882,  -0.96590138,  -0.76793618, ...,   3.47954716,\n",
       "            2.91463503,   2.92660128],\n",
       "         [ -4.06444771,  -0.84262655,   0.04881732, ...,   1.33120458,\n",
       "            4.01858117,   4.50030116],\n",
       "         ...,\n",
       "         [ -5.72949928,  -5.6664023 ,  -6.34835958, ...,   4.29030472,\n",
       "            4.2976468 ,   2.77558565],\n",
       "         [ -6.46251985,  -5.50817837,  -7.49124978, ...,   4.32582668,\n",
       "            5.28753887,   2.14640167],\n",
       "         [ -8.65491718,  -7.82442241,  -6.70531675, ...,   3.49469858,\n",
       "            3.84897513,   3.84080842]]]),\n",
       " array([[ 4.11227106,  1.51278975, -3.03839319, ..., -7.03834555,\n",
       "         -5.46717547, -7.04101743],\n",
       "        [ 2.86286311,  3.0900604 ,  0.97511494, ..., -5.54657903,\n",
       "         -5.97722759, -7.0991937 ],\n",
       "        [ 7.14470868,  2.88157781,  2.72415968, ..., -5.83159447,\n",
       "         -4.36715373, -9.46671057],\n",
       "        ...,\n",
       "        [ 4.30762233,  1.98789254, -0.38245076, ..., -3.97146205,\n",
       "         -2.70544936, -3.85837378],\n",
       "        [ 5.43696386,  8.12246856,  2.32656457, ...,  5.85651802,\n",
       "          3.36921005, -1.41540943],\n",
       "        [ 6.96137442,  4.32748566,  2.42954546, ..., -3.52657988,\n",
       "         -6.5188255 , -4.60880657]]))"
      ]
     },
     "execution_count": 21,
     "metadata": {},
     "output_type": "execute_result"
    }
   ],
   "source": [
    "sp = SequentialPreprocessor(z_space=[[0, 0], [0, 1], [1, 0], [1, 1]], \n",
    "                            num_actions=2, \n",
    "                            cross_folds=1, \n",
    "                            mode='single', \n",
    "                            reg_model='nn')\n",
    "sp.train_preprocessor(zs=zs_train, xs=states_train, actions=actions_train, rewards=rewards_train)"
   ]
  },
  {
   "cell_type": "markdown",
   "id": "3493c2d4",
   "metadata": {},
   "source": [
    "## Policy Learning"
   ]
  },
  {
   "cell_type": "markdown",
   "id": "299d8744",
   "metadata": {},
   "source": [
    "We now train a counterfactually fair policy using the preprocessor `sp` and the set of trajectory data that is not used to train `sp`. We begin by initializing an `FQI` agent with `sp` as its internal preprocessor."
   ]
  },
  {
   "cell_type": "code",
   "execution_count": 22,
   "id": "1443cb39",
   "metadata": {},
   "outputs": [],
   "source": [
    "agent = FQI(num_actions=2, model_type='nn', preprocessor=sp)"
   ]
  },
  {
   "cell_type": "markdown",
   "id": "e5c88801",
   "metadata": {},
   "source": [
    "We now perform training. Since we set `preprocess=True` in `train()`, `agent` will use its internal preprocessor (i.e. `sp`) to automatically preprocess the input training trajectory before using the trajectory for policy learning. Therefore, we can directly pass in the unpreprocessed `states_prepro` and `rewards_prepro`. "
   ]
  },
  {
   "cell_type": "code",
   "execution_count": 23,
   "id": "9a43649e",
   "metadata": {},
   "outputs": [
    {
     "name": "stderr",
     "output_type": "stream",
     "text": [
      "100%|██████████| 100/100 [00:49<00:00,  2.03it/s]\n"
     ]
    }
   ],
   "source": [
    "agent.train(zs=zs_prepro, \n",
    "            xs=states_prepro, \n",
    "            actions=actions_prepro, \n",
    "            rewards=rewards_prepro, \n",
    "            max_iter=100, \n",
    "            preprocess=True)"
   ]
  },
  {
   "cell_type": "markdown",
   "id": "ee67cec9",
   "metadata": {},
   "source": [
    "## Decision-making Using the Trained Policy"
   ]
  },
  {
   "cell_type": "markdown",
   "id": "13343eb1",
   "metadata": {},
   "source": [
    "Now we have trained a counterfactually fair policy. We can use its `act()` method to make decisions. At actual deployment, the single-step trajectory passed into `act()` is often generated from the real enviornment at the time. However, in this part, we reuse the training trajectory data for demonstration purposes.\n",
    "\n",
    "We first take actions for the initial time step (i.e. $a_0$). Again, we only pass in unpreprocessed states and rewards because they will be automatically preprocessed inside `act()` before being used for decision-making. We set `xtm1` and `atm1` to `None`. This tells `agent` that we are taking the initial action and that the buffer of the internal preprocessor should be reset."
   ]
  },
  {
   "cell_type": "code",
   "execution_count": 24,
   "id": "35f21bc2",
   "metadata": {},
   "outputs": [
    {
     "data": {
      "text/plain": [
       "array([1, 1, 1, 1, 1, 1, 1, 1, 1, 1, 1, 1, 1, 1, 1, 1, 1, 1, 1, 1, 1, 1,\n",
       "       1, 1, 1, 1, 1, 1, 1, 1, 1, 1, 1, 1, 1, 1, 1, 1, 1, 1, 1, 1, 1, 1,\n",
       "       1, 1, 1, 1, 1, 1, 1, 1, 1, 1, 1, 1, 1, 1, 1, 1, 1, 1, 1, 1, 1, 1,\n",
       "       1, 1, 1, 1, 1, 1, 1, 1, 1, 1, 1, 1, 1, 1, 1, 1, 1, 1, 1, 1, 1, 1,\n",
       "       1, 1, 1, 1, 1, 1, 1, 1, 1, 1, 1, 1, 1, 1, 1, 1, 1, 1, 1, 1, 1, 1,\n",
       "       1, 1, 1, 1, 1, 1, 1, 1, 1, 1, 1, 1, 1, 1, 1, 1, 1, 1, 1, 1, 1, 1,\n",
       "       1, 1, 1, 1, 1, 1, 1, 1, 1, 1, 1, 1, 1, 1, 1, 1, 1, 1, 1, 1, 1, 1,\n",
       "       1, 1, 1, 1, 1, 1, 1, 1, 1, 1, 1, 1, 1, 1, 1, 1, 1, 1, 1, 1, 1, 1,\n",
       "       1, 1, 1, 1, 1, 1, 1, 1, 1, 1, 1, 1, 1, 1, 1, 1, 1, 1, 1, 1, 1, 1,\n",
       "       1, 1, 1, 1, 1, 1, 1, 1, 1, 1, 1, 1, 1, 1, 1, 1, 1, 1, 1, 1, 1, 1,\n",
       "       1, 1, 1, 1, 1, 1, 1, 1, 1, 1, 1, 1, 1, 1, 1, 1, 1, 1, 1, 1, 1, 1,\n",
       "       1, 1, 1, 1, 1, 1, 1, 1, 1, 1, 1, 1, 1, 1, 1, 1, 1, 1, 1, 1, 1, 1,\n",
       "       1, 1, 1, 1, 1, 1, 1, 1, 1, 1, 1, 1, 1, 1, 1, 1, 1, 1, 1, 1, 1, 1,\n",
       "       1, 1, 1, 1, 1, 1, 1, 1, 1, 1, 1, 1, 1, 1, 1, 1, 1, 1, 1, 1, 1, 1,\n",
       "       1, 1, 1, 1, 1, 1, 1, 1, 1, 1, 1, 1, 1, 1, 1, 1, 1, 1, 1, 1, 1, 1,\n",
       "       1, 1, 1, 1, 1, 1, 1, 1, 1, 1, 1, 1, 1, 1, 1, 1, 1, 1, 1, 1, 1, 1,\n",
       "       1, 1, 1, 1, 1, 1, 1, 1, 1, 1, 1, 1, 1, 1, 1, 1, 1, 1, 1, 1, 1, 1,\n",
       "       1, 1, 1, 1, 1, 1, 1, 1, 1, 1, 1, 1, 1, 1, 1, 1, 1, 1, 1, 1, 1, 1,\n",
       "       1, 1, 1, 1, 1, 1, 1, 1, 1, 1, 1, 1, 1, 1, 1, 1, 1, 1, 1, 1, 1, 1,\n",
       "       1, 1, 1, 1, 1, 1, 1, 1, 1, 1, 1, 1, 1, 1, 1, 1, 1, 1, 1, 1, 1, 1,\n",
       "       1, 1, 1, 1, 1, 1, 1, 1, 1, 1, 1, 1, 1, 1, 1, 1, 1, 1, 1, 1, 1, 1,\n",
       "       1, 1, 1, 1, 1, 1, 1, 1, 1, 1, 1, 1, 1, 1, 1, 1, 1, 1, 1, 1, 1, 1,\n",
       "       1, 1, 1, 1, 1, 1, 1, 1, 1, 1, 1, 1, 1, 1, 1, 1], dtype=int64)"
      ]
     },
     "execution_count": 24,
     "metadata": {},
     "output_type": "execute_result"
    }
   ],
   "source": [
    "a0 = agent.act(z=zs, \n",
    "               xt=states[:, 0], \n",
    "               xtm1=None, \n",
    "               atm1=None, \n",
    "               preprocess=True)\n",
    "a0"
   ]
  },
  {
   "cell_type": "markdown",
   "id": "dfeb0685",
   "metadata": {},
   "source": [
    "We now take the second action. We still pass in unpreprocessed states and rewards, and we specify non-`None` `xtm1` and `atm1` to tell `agent` not to reset the buffer of its internal preprocessor."
   ]
  },
  {
   "cell_type": "code",
   "execution_count": 25,
   "id": "80ff7a9c",
   "metadata": {},
   "outputs": [
    {
     "data": {
      "text/plain": [
       "array([1, 1, 1, 1, 1, 1, 1, 1, 1, 1, 1, 1, 1, 1, 1, 1, 1, 1, 1, 1, 1, 1,\n",
       "       1, 1, 1, 1, 1, 1, 1, 1, 1, 1, 1, 1, 1, 1, 1, 1, 1, 1, 1, 1, 1, 1,\n",
       "       1, 1, 1, 1, 1, 1, 1, 1, 1, 1, 1, 1, 1, 1, 1, 1, 1, 1, 1, 1, 1, 1,\n",
       "       1, 1, 1, 1, 1, 1, 1, 1, 1, 1, 1, 1, 1, 1, 1, 1, 1, 1, 1, 1, 1, 1,\n",
       "       1, 1, 1, 1, 1, 1, 1, 1, 1, 1, 1, 1, 1, 1, 1, 1, 1, 1, 1, 1, 1, 1,\n",
       "       1, 1, 1, 1, 1, 1, 1, 1, 1, 1, 1, 1, 1, 1, 1, 1, 1, 1, 1, 1, 1, 1,\n",
       "       1, 1, 1, 1, 1, 1, 1, 1, 1, 1, 1, 1, 1, 1, 1, 1, 1, 1, 1, 1, 1, 1,\n",
       "       1, 1, 1, 1, 1, 1, 1, 1, 1, 1, 1, 1, 1, 1, 1, 1, 1, 1, 1, 1, 1, 1,\n",
       "       1, 1, 1, 1, 1, 1, 1, 1, 1, 1, 1, 1, 1, 1, 1, 1, 1, 1, 1, 1, 1, 1,\n",
       "       1, 1, 1, 1, 1, 1, 1, 1, 1, 1, 1, 1, 1, 1, 1, 1, 1, 1, 1, 1, 1, 1,\n",
       "       1, 1, 1, 1, 1, 1, 1, 1, 1, 1, 1, 1, 1, 1, 1, 1, 1, 1, 1, 1, 1, 1,\n",
       "       1, 1, 1, 1, 1, 1, 1, 1, 1, 1, 1, 1, 1, 1, 1, 1, 1, 1, 1, 1, 1, 1,\n",
       "       1, 1, 1, 1, 1, 1, 1, 1, 1, 1, 1, 1, 1, 1, 1, 1, 1, 1, 1, 1, 1, 1,\n",
       "       1, 1, 1, 1, 1, 1, 1, 1, 1, 1, 1, 1, 1, 1, 1, 1, 1, 1, 1, 1, 1, 1,\n",
       "       1, 1, 1, 1, 1, 1, 1, 1, 1, 1, 1, 1, 1, 1, 1, 1, 1, 1, 1, 1, 1, 1,\n",
       "       1, 1, 1, 1, 1, 1, 1, 1, 1, 1, 1, 1, 1, 1, 1, 1, 1, 1, 1, 1, 1, 1,\n",
       "       1, 1, 1, 1, 1, 1, 1, 1, 1, 1, 1, 1, 1, 1, 1, 1, 1, 1, 1, 1, 1, 1,\n",
       "       1, 1, 1, 1, 1, 1, 1, 1, 1, 1, 1, 1, 1, 1, 1, 1, 1, 1, 1, 1, 1, 1,\n",
       "       1, 1, 1, 1, 1, 1, 1, 1, 1, 1, 1, 1, 1, 1, 1, 1, 1, 1, 1, 1, 1, 1,\n",
       "       1, 1, 1, 1, 1, 1, 1, 1, 1, 1, 1, 1, 1, 1, 1, 1, 1, 1, 1, 1, 1, 1,\n",
       "       1, 1, 1, 1, 1, 1, 1, 1, 1, 1, 1, 1, 1, 1, 1, 1, 1, 1, 1, 1, 1, 1,\n",
       "       1, 1, 1, 1, 1, 1, 1, 1, 1, 1, 1, 1, 1, 1, 1, 1, 1, 1, 1, 1, 1, 1,\n",
       "       1, 1, 1, 1, 1, 1, 1, 1, 1, 1, 1, 1, 1, 1, 1, 1], dtype=int64)"
      ]
     },
     "execution_count": 25,
     "metadata": {},
     "output_type": "execute_result"
    }
   ],
   "source": [
    "a1 = agent.act(z=zs, \n",
    "               xt=states[:, 1], \n",
    "               xtm1=states[:, 0], \n",
    "               atm1=a0, \n",
    "               preprocess=True)\n",
    "a1"
   ]
  },
  {
   "cell_type": "markdown",
   "id": "e063315a",
   "metadata": {},
   "source": [
    "## Alternative: Using All Individuals for Policy Learning"
   ]
  },
  {
   "cell_type": "markdown",
   "id": "13a30b10",
   "metadata": {},
   "source": [
    "Sometimes, the number of individuals in the trajectory is small. In this case, if we only use a subset of individuals for policy learning, the amount of training trajectory data might be too small to be useful for policy learning. Fortunately, when we set `cross_folds` to a relatively large number, we can directly preprocess all individuals using the `train_preprocessor()` function, and the preprocessed trajectory can be used for policy learning.\n",
    "\n",
    "When `cross_folds=K` where `K` is greater than 1, `train_preprocessor()` will internally divide the training data into `K` folds. For each $i=1,\\dots,k$, it trains a transition dynamics model based on all the folds other than the $i$-th one, and this model is then used to preprocess data in the $i$-th fold. This results in `K` folds of preprocessed data, each of which is processed using a model that is trained on the other folds. These `K` folds of preprocessed data are then combined and returned by `train_preprocessor()`. This method allows us to preprocess all individuals in the trajectory while reducing overfitting.\n",
    "\n",
    "To use this functionality, we first initialize a `SequentialPreprocessor` with `cross_folds` greater than 1. We use `cross_folds=5` here."
   ]
  },
  {
   "cell_type": "code",
   "execution_count": 26,
   "id": "cab5cb3a",
   "metadata": {},
   "outputs": [],
   "source": [
    "sp_cf5 = SequentialPreprocessor(z_space=[[0, 0], [0, 1], [1, 0], [1, 1]], \n",
    "                                num_actions=2, \n",
    "                                cross_folds=5, \n",
    "                                mode='single', \n",
    "                                reg_model='nn')"
   ]
  },
  {
   "cell_type": "markdown",
   "id": "a32e84b0",
   "metadata": {},
   "source": [
    "We now simultaneously train the preprocessor and preprocess all individuals in the trajectory using the precedure described above."
   ]
  },
  {
   "cell_type": "code",
   "execution_count": 27,
   "id": "390ab5dd",
   "metadata": {},
   "outputs": [
    {
     "name": "stderr",
     "output_type": "stream",
     "text": [
      "100%|██████████| 1000/1000 [00:36<00:00, 27.38it/s]\n",
      "100%|██████████| 1000/1000 [01:02<00:00, 15.91it/s]\n",
      "100%|██████████| 1000/1000 [00:48<00:00, 20.43it/s]\n",
      "100%|██████████| 1000/1000 [00:36<00:00, 27.49it/s]\n",
      "100%|██████████| 1000/1000 [00:38<00:00, 25.65it/s]\n"
     ]
    }
   ],
   "source": [
    "states_tilde_cf5, rewards_tilde_cf5 = sp_cf5.train_preprocessor(zs=zs, \n",
    "                                                                xs=states, \n",
    "                                                                actions=actions, \n",
    "                                                                rewards=rewards)"
   ]
  },
  {
   "cell_type": "markdown",
   "id": "b69f7cae",
   "metadata": {},
   "source": [
    "We now train a policy using `FQI` and the preprocessed data. Note that we set `preprocess=False` during training because the input training data `state_tilde` and `rewards_tilde` are already preprocessed."
   ]
  },
  {
   "cell_type": "code",
   "execution_count": 28,
   "id": "2be5f73c",
   "metadata": {},
   "outputs": [
    {
     "name": "stderr",
     "output_type": "stream",
     "text": [
      "100%|██████████| 100/100 [00:59<00:00,  1.69it/s]\n"
     ]
    }
   ],
   "source": [
    "agent_cf5 = FQI(num_actions=2, model_type='nn', preprocessor=sp)\n",
    "agent_cf5.train(zs=zs, \n",
    "                xs=states_tilde_cf5, \n",
    "                actions=actions, \n",
    "                rewards=rewards_tilde_cf5, \n",
    "                max_iter=100, \n",
    "                preprocess=False)"
   ]
  },
  {
   "cell_type": "markdown",
   "id": "20f01bf3",
   "metadata": {},
   "source": [
    "We now take the initial action using `agent_cf5`."
   ]
  },
  {
   "cell_type": "code",
   "execution_count": 29,
   "id": "080a2f71",
   "metadata": {},
   "outputs": [
    {
     "data": {
      "text/plain": [
       "array([1, 1, 1, 1, 1, 1, 1, 1, 1, 1, 1, 1, 1, 1, 1, 1, 1, 1, 1, 1, 1, 1,\n",
       "       1, 1, 1, 1, 1, 1, 1, 1, 1, 1, 1, 1, 1, 1, 1, 1, 1, 1, 1, 0, 1, 1,\n",
       "       1, 1, 1, 1, 1, 1, 1, 1, 1, 1, 1, 1, 1, 1, 1, 1, 1, 1, 1, 1, 1, 1,\n",
       "       1, 1, 1, 1, 1, 1, 1, 1, 1, 1, 1, 1, 1, 1, 1, 1, 1, 1, 1, 1, 1, 1,\n",
       "       1, 1, 1, 1, 1, 1, 1, 1, 1, 1, 1, 1, 1, 1, 1, 1, 0, 1, 1, 1, 1, 1,\n",
       "       1, 1, 1, 1, 1, 1, 1, 1, 1, 1, 1, 1, 0, 1, 1, 1, 1, 1, 1, 1, 1, 1,\n",
       "       1, 1, 1, 1, 1, 1, 1, 1, 1, 1, 1, 1, 1, 1, 1, 1, 1, 1, 1, 1, 1, 1,\n",
       "       1, 1, 1, 1, 1, 1, 1, 1, 1, 1, 1, 1, 1, 1, 1, 1, 1, 1, 1, 1, 1, 1,\n",
       "       1, 1, 1, 1, 1, 1, 1, 1, 1, 1, 1, 1, 1, 1, 1, 1, 1, 1, 1, 1, 1, 1,\n",
       "       1, 1, 1, 1, 1, 1, 1, 1, 1, 1, 1, 1, 1, 1, 1, 1, 1, 1, 1, 1, 1, 1,\n",
       "       1, 1, 1, 1, 1, 1, 1, 1, 0, 1, 1, 1, 1, 1, 1, 1, 1, 1, 1, 1, 1, 1,\n",
       "       1, 1, 1, 1, 1, 1, 1, 1, 1, 1, 1, 1, 1, 1, 1, 1, 1, 1, 1, 1, 1, 1,\n",
       "       1, 1, 1, 1, 1, 1, 1, 1, 1, 1, 1, 1, 1, 1, 1, 1, 1, 1, 1, 1, 1, 1,\n",
       "       1, 1, 1, 1, 0, 1, 1, 1, 1, 1, 1, 0, 1, 1, 1, 1, 1, 1, 1, 1, 1, 1,\n",
       "       1, 1, 1, 1, 1, 1, 1, 1, 1, 1, 1, 1, 1, 1, 1, 1, 1, 1, 1, 1, 1, 1,\n",
       "       1, 1, 1, 1, 1, 1, 1, 1, 1, 1, 1, 1, 1, 1, 1, 1, 1, 1, 1, 1, 1, 1,\n",
       "       1, 1, 1, 1, 1, 1, 1, 1, 1, 1, 1, 1, 1, 1, 1, 1, 1, 1, 1, 1, 1, 1,\n",
       "       1, 1, 1, 1, 1, 1, 1, 1, 1, 1, 1, 1, 1, 1, 1, 1, 1, 1, 1, 1, 1, 1,\n",
       "       1, 1, 1, 1, 1, 1, 1, 1, 1, 1, 1, 1, 1, 1, 1, 1, 1, 1, 1, 1, 1, 1,\n",
       "       1, 1, 1, 1, 1, 1, 1, 1, 1, 1, 1, 1, 1, 1, 1, 1, 1, 1, 1, 1, 1, 1,\n",
       "       1, 1, 1, 1, 1, 1, 1, 1, 1, 1, 1, 1, 1, 1, 1, 1, 1, 1, 1, 1, 1, 1,\n",
       "       1, 1, 0, 1, 1, 1, 1, 1, 1, 1, 1, 1, 1, 1, 1, 1, 1, 1, 1, 1, 1, 1,\n",
       "       1, 1, 1, 1, 1, 1, 1, 1, 1, 1, 1, 1, 1, 1, 1, 1], dtype=int64)"
      ]
     },
     "execution_count": 29,
     "metadata": {},
     "output_type": "execute_result"
    }
   ],
   "source": [
    "a0 = agent_cf5.act(z=zs, \n",
    "               xt=states[:, 0], \n",
    "               xtm1=None, \n",
    "               atm1=None, \n",
    "               preprocess=True)\n",
    "a0"
   ]
  },
  {
   "cell_type": "markdown",
   "id": "25bbef31",
   "metadata": {},
   "source": [
    "We now take the second action using `agent_cf5`."
   ]
  },
  {
   "cell_type": "code",
   "execution_count": 30,
   "id": "b97cb571",
   "metadata": {},
   "outputs": [
    {
     "data": {
      "text/plain": [
       "array([1, 1, 1, 1, 1, 1, 1, 1, 1, 1, 1, 1, 1, 1, 1, 1, 1, 1, 1, 1, 1, 1,\n",
       "       1, 1, 1, 1, 1, 1, 1, 1, 1, 1, 1, 1, 1, 1, 1, 1, 1, 1, 1, 1, 1, 1,\n",
       "       1, 1, 1, 1, 1, 1, 1, 1, 1, 1, 1, 1, 1, 1, 1, 1, 1, 1, 1, 1, 1, 1,\n",
       "       1, 1, 1, 1, 1, 1, 1, 1, 1, 1, 1, 1, 1, 1, 1, 1, 1, 1, 1, 1, 1, 1,\n",
       "       1, 1, 1, 1, 1, 1, 1, 1, 1, 1, 1, 1, 1, 1, 1, 1, 1, 1, 1, 1, 1, 1,\n",
       "       1, 1, 1, 1, 1, 1, 1, 1, 1, 1, 1, 1, 1, 1, 1, 1, 1, 1, 1, 1, 1, 1,\n",
       "       1, 1, 1, 1, 1, 1, 1, 1, 1, 1, 1, 1, 1, 1, 1, 1, 1, 1, 1, 1, 1, 1,\n",
       "       1, 1, 1, 1, 1, 1, 1, 1, 1, 1, 1, 1, 1, 1, 1, 1, 1, 1, 1, 1, 1, 1,\n",
       "       1, 1, 1, 1, 1, 1, 1, 1, 1, 1, 1, 1, 1, 1, 1, 1, 1, 1, 1, 1, 1, 1,\n",
       "       1, 1, 1, 1, 1, 1, 1, 1, 1, 1, 1, 1, 1, 1, 1, 1, 1, 1, 1, 1, 1, 1,\n",
       "       1, 1, 1, 1, 1, 1, 1, 1, 1, 1, 1, 1, 1, 1, 1, 1, 1, 1, 1, 1, 1, 1,\n",
       "       1, 1, 1, 1, 1, 1, 1, 1, 1, 1, 1, 1, 1, 1, 1, 1, 1, 1, 1, 1, 1, 1,\n",
       "       1, 1, 1, 1, 1, 1, 1, 1, 1, 1, 1, 1, 1, 1, 1, 1, 1, 1, 1, 1, 1, 1,\n",
       "       1, 1, 1, 1, 1, 1, 1, 1, 1, 1, 1, 1, 1, 1, 1, 1, 1, 1, 1, 1, 1, 1,\n",
       "       1, 1, 1, 1, 1, 1, 1, 1, 1, 1, 1, 1, 1, 1, 1, 1, 1, 1, 1, 1, 1, 1,\n",
       "       1, 1, 1, 1, 1, 1, 1, 1, 1, 1, 1, 1, 1, 1, 1, 1, 1, 1, 1, 1, 1, 1,\n",
       "       1, 1, 1, 1, 1, 1, 1, 1, 1, 1, 1, 1, 1, 1, 1, 1, 1, 1, 1, 1, 1, 1,\n",
       "       1, 1, 1, 1, 1, 1, 1, 1, 1, 1, 1, 1, 1, 1, 1, 1, 1, 1, 1, 1, 1, 1,\n",
       "       1, 1, 1, 1, 1, 1, 1, 1, 1, 1, 1, 1, 1, 1, 1, 1, 1, 1, 1, 1, 1, 1,\n",
       "       1, 1, 1, 1, 1, 1, 1, 1, 1, 1, 1, 1, 1, 1, 1, 1, 1, 1, 1, 1, 1, 1,\n",
       "       1, 1, 1, 1, 1, 1, 1, 1, 1, 1, 1, 1, 1, 1, 1, 1, 1, 1, 1, 1, 1, 1,\n",
       "       1, 1, 1, 1, 1, 1, 1, 1, 1, 1, 1, 1, 1, 1, 1, 1, 1, 1, 1, 1, 1, 1,\n",
       "       1, 1, 1, 1, 1, 1, 1, 1, 1, 1, 1, 1, 1, 1, 1, 1], dtype=int64)"
      ]
     },
     "execution_count": 30,
     "metadata": {},
     "output_type": "execute_result"
    }
   ],
   "source": [
    "a1 = agent_cf5.act(z=zs, \n",
    "               xt=states[:, 1], \n",
    "               xtm1=states[:, 0], \n",
    "               atm1=a0, \n",
    "               preprocess=True)\n",
    "a1"
   ]
  }
 ],
 "metadata": {
  "kernelspec": {
   "display_name": "Python 3",
   "language": "python",
   "name": "python3"
  },
  "language_info": {
   "codemirror_mode": {
    "name": "ipython",
    "version": 3
   },
   "file_extension": ".py",
   "mimetype": "text/x-python",
   "name": "python",
   "nbconvert_exporter": "python",
   "pygments_lexer": "ipython3",
   "version": "3.10.8"
  }
 },
 "nbformat": 4,
 "nbformat_minor": 5
}
